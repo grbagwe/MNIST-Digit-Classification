{
 "cells": [
  {
   "cell_type": "code",
   "execution_count": 1,
   "metadata": {
    "collapsed": true
   },
   "outputs": [],
   "source": [
    "# final exam -4 MLPclassfier "
   ]
  },
  {
   "cell_type": "code",
   "execution_count": 5,
   "metadata": {
    "collapsed": true
   },
   "outputs": [],
   "source": [
    "import csv\n",
    "import numpy as np\n",
    "from scipy import stats\n",
    "import math\n",
    "from numpy.linalg import inv, norm, pinv\n",
    "import random\n",
    "from sklearn.neural_network import  MLPClassifier\n",
    "from sklearn import metrics\n",
    "import timeit\n",
    "import matplotlib.pyplot as plt"
   ]
  },
  {
   "cell_type": "code",
   "execution_count": 3,
   "metadata": {},
   "outputs": [
    {
     "name": "stdout",
     "output_type": "stream",
     "text": [
      "Size of the training set:-\n",
      "(60000, 785)\n",
      "Size of the Testing set:-\n",
      "(10000, 785)\n",
      "Size of the Testing Labes:-\n"
     ]
    }
   ],
   "source": [
    "# I found it difficult ot de compress it in jupyter so I used Linux convert them into csv files\n",
    "Tr = np.loadtxt(open(\"C:\\\\Users\\\\grbag\\\\Desktop\\\\Fall17\\\\my machine learning\\\\final\\\\mnist_train.csv\", \"rb\"), delimiter=\",\")\n",
    "Tx = np.loadtxt(open(\"C:\\\\Users\\\\grbag\\\\Desktop\\\\Fall17\\\\my machine learning\\\\final\\\\mnist_test.csv\", \"rb\"), delimiter=\",\")\n",
    "print(\"Size of the training set:-\")\n",
    "print(Tr.shape)\n",
    "print(\"Size of the Testing set:-\")\n",
    "print(Tx.shape)\n",
    "print(\"Size of the Testing Labes:-\")\n",
    "\n",
    "##########################################################\n",
    "# divide the Training sets to seperate the labels and the images \n",
    "Trl=Tr[:,0]                 # Training labels \n",
    "Trd=Tr[:,1:]                # Training data \n",
    "Tr0 = []\n",
    "Tr0l=[]\n",
    "Txl=Tx[:,0]                 # Testing labels \n",
    "Txd=Tx[:,1:]                #testing data\n"
   ]
  },
  {
   "cell_type": "code",
   "execution_count": 22,
   "metadata": {},
   "outputs": [
    {
     "name": "stdout",
     "output_type": "stream",
     "text": [
      "training time:  25.787400072709715  secs\n"
     ]
    },
    {
     "data": {
      "text/plain": [
       "0.89229999999999998"
      ]
     },
     "execution_count": 22,
     "metadata": {},
     "output_type": "execute_result"
    }
   ],
   "source": [
    "#  Frist  ran the code a few times to check how it performs generally \n",
    "\n",
    "stime = timeit.default_timer()\n",
    "mlp = MLPClassifier(hidden_layer_sizes=(50,),max_iter = 100,solver = \"sgd\")\n",
    "mlp.fit(Trd,Trl)\n",
    "Trtime = timeit.default_timer() - stime \n",
    "print(\"training time: \",Trtime,\" secs\")\n",
    "mlp.score(Txd,Txl)"
   ]
  },
  {
   "cell_type": "code",
   "execution_count": 12,
   "metadata": {},
   "outputs": [
    {
     "name": "stdout",
     "output_type": "stream",
     "text": [
      "training time:  50.71848669416977  secs\n"
     ]
    },
    {
     "data": {
      "text/plain": [
       "0.89759999999999995"
      ]
     },
     "execution_count": 12,
     "metadata": {},
     "output_type": "execute_result"
    }
   ],
   "source": [
    "stime = timeit.default_timer()\n",
    "mlp = MLPClassifier(hidden_layer_sizes=(50,),max_iter = 1000,solver = \"sgd\")\n",
    "mlp.fit(Trd,Trl)\n",
    "Trtime = timeit.default_timer() - stime \n",
    "print(\"training time: \",Trtime,\" secs\")\n",
    "mlp.score(Txd,Txl)"
   ]
  },
  {
   "cell_type": "code",
   "execution_count": 18,
   "metadata": {},
   "outputs": [
    {
     "name": "stdout",
     "output_type": "stream",
     "text": [
      "training time:  24.01802543568556  secs\n"
     ]
    },
    {
     "data": {
      "text/plain": [
       "0.71819999999999995"
      ]
     },
     "execution_count": 18,
     "metadata": {},
     "output_type": "execute_result"
    }
   ],
   "source": [
    "stime = timeit.default_timer()\n",
    "mlp = MLPClassifier(hidden_layer_sizes=(50,),tol=1e-5,max_iter = 1000,solver = \"sgd\")\n",
    "\n",
    "mlp.fit(Trd,Trl)\n",
    "Trtime = timeit.default_timer() - stime \n",
    "print(\"training time: \",Trtime,\" secs\")\n",
    "mlp.score(Txd,Txl)"
   ]
  },
  {
   "cell_type": "code",
   "execution_count": 19,
   "metadata": {},
   "outputs": [
    {
     "name": "stdout",
     "output_type": "stream",
     "text": [
      "training time:  240.0116441232658  secs\n"
     ]
    },
    {
     "name": "stderr",
     "output_type": "stream",
     "text": [
      "C:\\Users\\grbag\\Anaconda3\\lib\\site-packages\\sklearn\\neural_network\\multilayer_perceptron.py:563: ConvergenceWarning: Stochastic Optimizer: Maximum iterations reached and the optimization hasn't converged yet.\n",
      "  % (), ConvergenceWarning)\n"
     ]
    },
    {
     "data": {
      "text/plain": [
       "0.85319999999999996"
      ]
     },
     "execution_count": 19,
     "metadata": {},
     "output_type": "execute_result"
    }
   ],
   "source": [
    "stime = timeit.default_timer()\n",
    "mlp = MLPClassifier(hidden_layer_sizes=(200,),tol=1e-5,max_iter = 100,solver = \"sgd\",learning_rate=\"invscaling\")\n",
    "\n",
    "mlp.fit(Trd,Trl)\n",
    "Trtime = timeit.default_timer() - stime \n",
    "print(\"training time: \",Trtime,\" secs\")\n",
    "mlp.score(Txd,Txl)"
   ]
  },
  {
   "cell_type": "code",
   "execution_count": 21,
   "metadata": {
    "scrolled": true
   },
   "outputs": [
    {
     "name": "stdout",
     "output_type": "stream",
     "text": [
      "training time:  1281.201301368823  secs\n"
     ]
    },
    {
     "name": "stderr",
     "output_type": "stream",
     "text": [
      "C:\\Users\\grbag\\Anaconda3\\lib\\site-packages\\sklearn\\neural_network\\multilayer_perceptron.py:563: ConvergenceWarning: Stochastic Optimizer: Maximum iterations reached and the optimization hasn't converged yet.\n",
      "  % (), ConvergenceWarning)\n"
     ]
    },
    {
     "data": {
      "text/plain": [
       "0.84470000000000001"
      ]
     },
     "execution_count": 21,
     "metadata": {},
     "output_type": "execute_result"
    }
   ],
   "source": [
    "stime = timeit.default_timer()\n",
    "mlp = MLPClassifier(hidden_layer_sizes=(200,),tol=1e-5,max_iter = 500,solver = \"sgd\",learning_rate=\"invscaling\")\n",
    "\n",
    "mlp.fit(Trd,Trl)\n",
    "Trtime = timeit.default_timer() - stime \n",
    "print(\"training time: \",Trtime,\" secs\")\n",
    "mlp.score(Txd,Txl)"
   ]
  },
  {
   "cell_type": "markdown",
   "metadata": {},
   "source": [
    "\n"
   ]
  },
  {
   "cell_type": "code",
   "execution_count": null,
   "metadata": {
    "collapsed": true
   },
   "outputs": [],
   "source": [
    "# ACTIVATION\n",
    "#  The activation parameter is used for the hidden layer. The activation function \n",
    "#  for the hidden layer -> logistic tanh or relu . It is observed that tanh converges quickly with more accuracy than \n",
    "# sigmoid and Logistic. Even better is ReLu which is better. So we will use ReLU for future calculations\n",
    "# \n",
    "\n",
    "# SOLVER\n",
    "# lbfgs requires soring about 20-100 gradient calculations thus more memory \n",
    "# For smaller datasets ibfgs converges faster and better.\n",
    "# Thus in a random case lbfgs is the best choice if memory is not an issue.\n",
    "# The default solver adam works pretty well on large datasets, Hence we chosee adam over ibfgs\n",
    "\n",
    "# ALPHA\n",
    "# a smaller value of alpha gives more accuracy, slected value of alpha = 1e-5\n",
    "\n",
    "\n",
    "\n"
   ]
  },
  {
   "cell_type": "code",
   "execution_count": 32,
   "metadata": {},
   "outputs": [
    {
     "name": "stdout",
     "output_type": "stream",
     "text": [
      "training time:  34.133927516726544  secs\n",
      "0.9538\n",
      "training time:  52.89283506650827  secs\n",
      "0.9512\n",
      "training time:  45.101063599089684  secs\n",
      "0.949\n"
     ]
    }
   ],
   "source": [
    "stime = timeit.default_timer()\n",
    "alp=1e-5\n",
    "mlp = MLPClassifier(hidden_layer_sizes=(50,),activation='relu',solver='adam',alpha=alp,)\n",
    "mlp.fit(Trd,Trl)\n",
    "Trtime = timeit.default_timer() - stime \n",
    "print(\"training time: \",Trtime,\" secs\")\n",
    "print(mlp.score(Txd,Txl))\n",
    "\n",
    "###\n",
    "stime = timeit.default_timer()\n",
    "alp=1e-4\n",
    "mlp = MLPClassifier(hidden_layer_sizes=(50,),activation='relu',solver='adam',alpha=alp,)\n",
    "mlp.fit(Trd,Trl)\n",
    "Trtime = timeit.default_timer() - stime \n",
    "print(\"training time: \",Trtime,\" secs\")\n",
    "print(mlp.score(Txd,Txl))\n",
    "stime = timeit.default_timer()\n",
    "alp=1e-2\n",
    "mlp = MLPClassifier(hidden_layer_sizes=(50,),activation='relu',solver='adam',alpha=alp,)\n",
    "mlp.fit(Trd,Trl)\n",
    "Trtime = timeit.default_timer() - stime \n",
    "print(\"training time: \",Trtime,\" secs\")\n",
    "print(mlp.score(Txd,Txl))"
   ]
  },
  {
   "cell_type": "code",
   "execution_count": 38,
   "metadata": {},
   "outputs": [
    {
     "name": "stdout",
     "output_type": "stream",
     "text": [
      "training time:  35.26740262565727  secs\n",
      "0.9546\n",
      "training time:  32.57042698762234  secs\n",
      "0.951\n"
     ]
    }
   ],
   "source": [
    "# ALPHA\n",
    "# a smaller value of alpha gives more accuracy, slected value of alpha = 1e-5\n",
    "\n",
    "#LEARNING RATE INIT - \n",
    "# Initallearning rate which controls the step size of the weights . A tradoff bewteen training time and step size is taken for better results \n",
    "\n",
    "#SHUFFLE\n",
    "# as the name suggests it shuffles the samples after each iteration and the default condtion is true no leave it default\n",
    "\n",
    "# epsilon \n",
    "# : float, optional, default 1e-8\n",
    "# Value for numerical stability in adam. Only used when solver=’adam’\n",
    "\n",
    "stime = timeit.default_timer()\n",
    "alp=1e-5\n",
    "mlp = MLPClassifier(hidden_layer_sizes=(50,),activation='relu',solver='adam',alpha=alp,epsilon=1e-08)\n",
    "mlp.fit(Trd,Trl)\n",
    "Trtime = timeit.default_timer() - stime \n",
    "print(\"training time: \",Trtime,\" secs\")\n",
    "print(mlp.score(Txd,Txl))\n",
    "      \n",
    "stime = timeit.default_timer()\n",
    "alp=1e-5\n",
    "mlp = MLPClassifier(hidden_layer_sizes=(50,),activation='relu',solver='adam',alpha=alp,epsilon=1e-05)\n",
    "mlp.fit(Trd,Trl)\n",
    "Trtime = timeit.default_timer() - stime \n",
    "print(\"training time: \",Trtime,\" secs\")\n",
    "print(mlp.score(Txd,Txl))"
   ]
  },
  {
   "cell_type": "code",
   "execution_count": 40,
   "metadata": {},
   "outputs": [
    {
     "name": "stdout",
     "output_type": "stream",
     "text": [
      "training time:  35.86286895653757  secs\n",
      "0.9561\n",
      "training time:  26.16365208395291  secs\n",
      "0.9509\n"
     ]
    }
   ],
   "source": [
    "#  AFter Running the above cell twice, it is obvered that epsilon= 1e-05 works better decreasing the runntime slightly.\n",
    "\n",
    "stime = timeit.default_timer()\n",
    "alp=1e-5\n",
    "epi = 1e-5\n",
    "mlp = MLPClassifier(hidden_layer_sizes=(50,),activation='relu',solver='adam',alpha=alp,epsilon=epi,max_iter=100 ,tol=1e-4)\n",
    "\n",
    "mlp.fit(Trd,Trl)\n",
    "Trtime = timeit.default_timer() - stime \n",
    "print(\"training time: \",Trtime,\" secs\")\n",
    "print(mlp.score(Txd,Txl))\n",
    "\n",
    "stime = timeit.default_timer()\n",
    "alp=1e-5\n",
    "epi = 1e-5\n",
    "mlp = MLPClassifier(hidden_layer_sizes=(50,),activation='relu',solver='adam',alpha=alp,epsilon=epi,max_iter=100, tol=1e-3)\n",
    "\n",
    "mlp.fit(Trd,Trl)\n",
    "Trtime = timeit.default_timer() - stime \n",
    "print(\"training time: \",Trtime,\" secs\")\n",
    "print(mlp.score(Txd,Txl))\n",
    "# MAX_ITER\n",
    "# it defines the maximum iteration untill covergence and isdetermined by tol. although the default is 200 it gave  96 % accuracy with 100 \n",
    "# With tolarence as high as 1e-3 the training time reduces drasftically by 9 secs  with decrease of 1 % of accuracy\n",
    "# So it run time is long, we can reduce the torlerance\n",
    "\n",
    "\n"
   ]
  },
  {
   "cell_type": "code",
   "execution_count": 44,
   "metadata": {},
   "outputs": [
    {
     "name": "stdout",
     "output_type": "stream",
     "text": [
      "training time:  30.171625815382868  secs\n",
      "0.9542\n",
      "The training accuracy = 97.8083333333\n",
      "The Testing accuracy =  95.42\n"
     ]
    }
   ],
   "source": [
    "# SO the best parameters selected are\n",
    "stime = timeit.default_timer()\n",
    "alp=1e-5\n",
    "epi = 1e-8\n",
    "t1=1e-4\n",
    "itermax= 200\n",
    "mlp = MLPClassifier(hidden_layer_sizes=(50,),activation='relu',solver='adam',alpha=alp,epsilon=epi,max_iter=itermax, tol=t1)\n",
    "mlp.fit(Trd,Trl)\n",
    "\n",
    "Trtime = timeit.default_timer() - stime \n",
    "print(\"training time: \",Trtime,\" secs\")\n",
    "print(mlp.score(Txd,Txl))\n",
    "predtr  = mlp.predict(Trd)\n",
    "predtx  = mlp.predict(Txd)\n",
    "TrAcc  =   100*metrics.accuracy_score(predtr,Trl)\n",
    "TxAcc  =   100*metrics.accuracy_score(predtx,Txl)\n",
    "print('The training accuracy =',TrAcc)\n",
    "print('The Testing accuracy = ',TxAcc)\n",
    "\n",
    "#  with 50 hidden layers and the above parameters the testing accuracy is 95% which can be increase with the increase of the laye"
   ]
  },
  {
   "cell_type": "code",
   "execution_count": 48,
   "metadata": {},
   "outputs": [
    {
     "name": "stdout",
     "output_type": "stream",
     "text": [
      "training time:  30.862756471666216  secs for  (50,) hidden layers\n",
      "The training accuracy = 97.85 for  (50,) hidden layers\n",
      "The Testing accuracy =  95.49 for  (50,) hidden layers\n",
      "training time:  35.22333782450005  secs for  (70,) hidden layers\n",
      "The training accuracy = 97.905 for  (70,) hidden layers\n",
      "The Testing accuracy =  95.58 for  (70,) hidden layers\n",
      "training time:  35.39780538143532  secs for  (80,) hidden layers\n",
      "The training accuracy = 98.435 for  (80,) hidden layers\n",
      "The Testing accuracy =  95.91 for  (80,) hidden layers\n",
      "training time:  37.505445290211355  secs for  (100,) hidden layers\n",
      "The training accuracy = 98.2166666667 for  (100,) hidden layers\n",
      "The Testing accuracy =  95.87 for  (100,) hidden layers\n",
      "training time:  38.55875148143241  secs for  (150,) hidden layers\n",
      "The training accuracy = 98.3366666667 for  (150,) hidden layers\n",
      "The Testing accuracy =  95.93 for  (150,) hidden layers\n",
      "training time:  67.29419906013209  secs for  (200,) hidden layers\n",
      "The training accuracy = 98.555 for  (200,) hidden layers\n",
      "The Testing accuracy =  96.18 for  (200,) hidden layers\n"
     ]
    },
    {
     "data": {
      "image/png": "[encoded data removed]",
      "text/plain": [
       "<matplotlib.figure.Figure at 0x186017d8160>"
      ]
     },
     "metadata": {},
     "output_type": "display_data"
    }
   ],
   "source": [
    "# 4b) accuracy vs the number of nodes in the hidden layers \n",
    "Hlayers = [50,70,80,100,150,200]\n",
    "alp=1e-5\n",
    "epi = 1e-8\n",
    "t1=1e-4\n",
    "itermax= 200\n",
    "mlp = MLPClassifier(hidden_layer_sizes=(50,),activation='relu',solver='adam',alpha=alp,epsilon=epi,max_iter=itermax, tol=t1)\n",
    "mlp.fit(Trd,Trl)\n",
    "\n",
    "TrAccmat=[]\n",
    "TxAccmat=[]\n",
    "for hl in zip(Hlayers): \n",
    "    stime = timeit.default_timer()\n",
    "    mlp = MLPClassifier(hidden_layer_sizes=(hl),activation='relu',solver='adam',alpha=alp,epsilon=epi,max_iter=itermax, tol=t1)\n",
    "    mlp.fit(Trd,Trl)\n",
    "    Trtime = timeit.default_timer() - stime  \n",
    "    print(\"training time: \",Trtime,\" secs\",'for ',hl,'hidden layers' )\n",
    "#     print(mlp.score(Txd,Txl))\n",
    "    predtr  = mlp.predict(Trd)\n",
    "    predtx  = mlp.predict(Txd)\n",
    "    TrAcc  =   100*metrics.accuracy_score(predtr,Trl)\n",
    "    TxAcc  =   100*metrics.accuracy_score(predtx,Txl)\n",
    "    TrAccmat.extend([TrAcc])\n",
    "    TxAccmat.extend([TxAcc])\n",
    "    print('The training accuracy =',TrAcc,'for ',hl,'hidden layers')\n",
    "    print('The Testing accuracy = ',TxAcc,'for ',hl,'hidden layers')\n",
    "    \n",
    "    \n",
    "plt.plot(Hlayers, TrAccmat, label='training Accuracy')\n",
    "plt.plot(Hlayers, TxAccmat, label='testing Accuracy ')\n",
    "plt.ylabel('Accuray ')\n",
    "plt.xlabel('Number of hidden layers')\n",
    "plt.legend(loc='upper center')\n",
    "plt.title('Test and Training Accuracy vs the hidden layers ')\n",
    "\n",
    "plt.show()    "
   ]
  },
  {
   "cell_type": "code",
   "execution_count": 56,
   "metadata": {},
   "outputs": [
    {
     "name": "stdout",
     "output_type": "stream",
     "text": [
      "training time:  46.25612910300697  secs for  (50,) hidden layers\n",
      "The training accuracy = 98.7616666667 for  (50,) hidden layers\n",
      "The Testing accuracy =  95.97 for  (50,) hidden layers\n",
      "training time:  33.357187765454  secs for  (70,) hidden layers\n",
      "The training accuracy = 98.8283333333 for  (70,) hidden layers\n",
      "The Testing accuracy =  96.39 for  (70,) hidden layers\n",
      "training time:  44.84065795537754  secs for  (80,) hidden layers\n",
      "The training accuracy = 99.1 for  (80,) hidden layers\n",
      "The Testing accuracy =  96.41 for  (80,) hidden layers\n",
      "training time:  47.8069012111373  secs for  (100,) hidden layers\n",
      "The training accuracy = 98.94 for  (100,) hidden layers\n",
      "The Testing accuracy =  96.6 for  (100,) hidden layers\n",
      "training time:  96.3844852688926  secs for  (150,) hidden layers\n",
      "The training accuracy = 98.8716666667 for  (150,) hidden layers\n",
      "The Testing accuracy =  96.75 for  (150,) hidden layers\n",
      "training time:  52.990519535516796  secs for  (200,) hidden layers\n",
      "The training accuracy = 98.72 for  (200,) hidden layers\n",
      "The Testing accuracy =  96.43 for  (200,) hidden layers\n"
     ]
    },
    {
     "data": {
      "image/png": "[encoded data removed]",
      "text/plain": [
       "<matplotlib.figure.Figure at 0x18601c5ccf8>"
      ]
     },
     "metadata": {},
     "output_type": "display_data"
    }
   ],
   "source": [
    "# 4b) accuracy vs the number of nodes in the 3 hidden layers \n",
    "Hlayers = [50,70,80,100,150,200]\n",
    "alp=1e-5\n",
    "epi = 1e-8\n",
    "t1=1e-4\n",
    "itermax= 200\n",
    "mlp = MLPClassifier(hidden_layer_sizes=(50,),activation='relu',solver='adam',alpha=alp,epsilon=epi,max_iter=itermax, tol=t1)\n",
    "mlp.fit(Trd,Trl)\n",
    "\n",
    "TrAccmat=[]\n",
    "TxAccmat=[]\n",
    "for hl in zip(Hlayers): \n",
    "    hl2=hl[0]+20\n",
    "    hl3=hl[0]+30\n",
    "    stime = timeit.default_timer()\n",
    "    mlp = MLPClassifier(hidden_layer_sizes=(hl[0],hl2,hl3),activation='relu',solver='adam',alpha=alp,epsilon=epi,max_iter=itermax, tol=t1)\n",
    "    mlp.fit(Trd,Trl)\n",
    "    Trtime = timeit.default_timer() - stime  \n",
    "    print(\"training time: \",Trtime,\" secs\",'for ',hl,'hidden layers' )\n",
    "#     print(mlp.score(Txd,Txl))\n",
    "    predtr  = mlp.predict(Trd)\n",
    "    predtx  = mlp.predict(Txd)\n",
    "    TrAcc  =   100*metrics.accuracy_score(predtr,Trl)\n",
    "    TxAcc  =   100*metrics.accuracy_score(predtx,Txl)\n",
    "    TrAccmat.extend([TrAcc])\n",
    "    TxAccmat.extend([TxAcc])\n",
    "    print('The training accuracy =',TrAcc,'for ',hl,'hidden layers')\n",
    "    print('The Testing accuracy = ',TxAcc,'for ',hl,'hidden layers')\n",
    "    \n",
    "    \n",
    "plt.plot(Hlayers, TrAccmat, label='training Accuracy')\n",
    "plt.plot(Hlayers, TxAccmat, label='testing Accuracy ')\n",
    "plt.ylabel('Accuray ')\n",
    "plt.xlabel('Number of hidden layers')\n",
    "plt.legend(loc='upper center')\n",
    "plt.title('Test and Training Accuracy vs the hidden layers ')\n",
    "\n",
    "plt.show() "
   ]
  },
  {
   "cell_type": "code",
   "execution_count": null,
   "metadata": {
    "collapsed": true
   },
   "outputs": [],
   "source": [
    "# 3 c)\n",
    "# MLP classifier is better than svc rbf which took 94 secs for an accuracy of 96\n",
    "# mlp is very fast as compared to the SVC \n",
    "# THE accuracy of the naive bayes is comparable mlp with testing accuracy almost 96 \n",
    "# KNN is the slowest compared to all, it is hard to implement on the big data set. \n",
    "# Logistic Regression is the easiest to implement but has low accuracy and more training time \n",
    "\n"
   ]
  }
 ],
 "metadata": {
  "kernelspec": {
   "display_name": "Python 3",
   "language": "python",
   "name": "python3"
  },
  "language_info": {
   "codemirror_mode": {
    "name": "ipython",
    "version": 3
   },
   "file_extension": ".py",
   "mimetype": "text/x-python",
   "name": "python",
   "nbconvert_exporter": "python",
   "pygments_lexer": "ipython3",
   "version": "3.6.1"
  }
 },
 "nbformat": 4,
 "nbformat_minor": 2
}
