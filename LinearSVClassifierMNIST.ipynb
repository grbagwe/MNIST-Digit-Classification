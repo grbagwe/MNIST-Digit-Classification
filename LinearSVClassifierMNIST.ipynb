{
 "cells": [
  {
   "cell_type": "code",
   "execution_count": null,
   "metadata": {
    "collapsed": true
   },
   "outputs": [],
   "source": [
    "# final exam -4 MLPclassfier \n"
   ]
  },
  {
   "cell_type": "code",
   "execution_count": 1,
   "metadata": {},
   "outputs": [
    {
     "name": "stdout",
     "output_type": "stream",
     "text": [
      "Size of the training set:-\n",
      "(60000, 785)\n",
      "Size of the Testing set:-\n",
      "(10000, 785)\n",
      "Size of the Testing Labes:-\n"
     ]
    }
   ],
   "source": [
    "import csv\n",
    "import numpy as np\n",
    "from scipy import stats\n",
    "import math\n",
    "from numpy.linalg import inv, norm, pinv\n",
    "import random\n",
    "# I found it difficult ot de compress it in jupyter so I used Linux convert them into csv files\n",
    "Tr = np.loadtxt(open(\"//home//gaurav//Documents//assignment3//mnist_train.csv\", \"rb\"), delimiter=\",\")\n",
    "Tx = np.loadtxt(open(\"/home/gaurav/Documents/assignment3/mnist_test.csv\", \"rb\"), delimiter=\",\")\n",
    "print(\"Size of the training set:-\")\n",
    "print(Tr.shape)\n",
    "print(\"Size of the Testing set:-\")\n",
    "print(Tx.shape)\n",
    "print(\"Size of the Testing Labes:-\")\n",
    "\n",
    "##########################################################\n",
    "# divide the Training sets to seperate the labels and the images \n",
    "Trl=Tr[:,0]                 # Training labels \n",
    "Trd=Tr[:,1:]                # Training data \n",
    "Tr0 = []\n",
    "Tr0l=[]\n",
    "Txl=Tx[:,0]                 # Testing labels \n",
    "Txd=Tx[:,1:]                #testing data\n",
    "\n",
    "####################"
   ]
  },
  {
   "cell_type": "code",
   "execution_count": null,
   "metadata": {
    "collapsed": true
   },
   "outputs": [],
   "source": [
    "from sklearn.svm import LinearSVC\n",
    "Lsvc1 = LinearSVC(C=2,dual=False)\n",
    "Lsvc1.fit(Trd, Trl) # Trainig set data and Training Labels \n",
    "\n",
    "print(Lsvc1.coef_)\n",
    "\n",
    "#  Use this classifier to predict the labels on test set and also on the training set \n",
    "# predtx = Lsvcl.predict(Txd) # predictions on the testing set \n",
    "# predtr = Lsvcl.predict(Trd) # predictions on the training set \n",
    "\n"
   ]
  },
  {
   "cell_type": "code",
   "execution_count": null,
   "metadata": {},
   "outputs": [
    {
     "name": "stdout",
     "output_type": "stream",
     "text": [
      "[ 7.  2.  1. ...,  4.  5.  6.]\n",
      "[ 7.  2.  1. ...,  4.  5.  6.]\n",
      "[[5804    2   41   22    7   47   31   11   45   28]\n",
      " [   1 6606   41   25   23   20    9   18  118   17]\n",
      " [  13   30 5421  153   30   39   32   56   69   24]\n",
      " [   9   13   86 5500    7  162    2   15  148  106]\n",
      " [   8    7   57   11 5495   67   27   57   38  178]\n",
      " [  18   20   25  166   12 4791   77    8  167   45]\n",
      " [  28    2   62   19   31   94 5705    3   51    2]\n",
      " [   2   11   67   53   15   18    2 5913   23  190]\n",
      " [  37   43  140  118   50  124   30   15 5103   48]\n",
      " [   3    8   18   64  172   59    3  169   89 5311]]\n"
     ]
    }
   ],
   "source": [
    "from sklearn.metrics import confusion_matrix\n",
    "\n",
    "predtx = Lsvc1.predict(Txd) # predictions on the testing set \n",
    "predtr = Lsvc1.predict(Trd)\n",
    "print(predtx)\n",
    "print(Txl)\n",
    "cmat_Lsvc = confusion_matrix(predtr,Trl)\n",
    "print(cmat_Lsvc)\n",
    "trainAcc_Array = []\n",
    "testAcc_Array = []\n",
    "\n"
   ]
  },
  {
   "cell_type": "code",
   "execution_count": 2,
   "metadata": {},
   "outputs": [
    {
     "name": "stdout",
     "output_type": "stream",
     "text": [
      "0.001\n",
      "Training Accuracy\n",
      "92.7716666667\n",
      "Testing Accuracy\n",
      "91.81\n",
      "0.1\n",
      "Training Accuracy\n",
      "92.775\n",
      "Testing Accuracy\n",
      "91.71\n",
      "1.0\n",
      "Training Accuracy\n",
      "92.7483333333\n",
      "Testing Accuracy\n",
      "91.71\n",
      "10.0\n",
      "Training Accuracy\n",
      "92.7583333333\n",
      "Testing Accuracy\n",
      "91.73\n",
      "100.0\n",
      "Training Accuracy\n",
      "92.7516666667\n",
      "Testing Accuracy\n",
      "91.75\n"
     ]
    },
    {
     "data": {
      "image/png": "[encoded data removed]",
      "text/plain": [
       "<matplotlib.figure.Figure at 0x7f8031001518>"
      ]
     },
     "metadata": {},
     "output_type": "display_data"
    },
    {
     "name": "stdout",
     "output_type": "stream",
     "text": [
      "[603.9051481589995, 1089.7816775149986, 967.8614579729983, 976.2215545859945, 1035.533017519003]\n"
     ]
    }
   ],
   "source": [
    "from sklearn.svm import LinearSVC\n",
    "from sklearn import metrics\n",
    "import timeit\n",
    "import matplotlib.pyplot as plt\n",
    "# i) (10) Plot overall training and testing accuracy versus input parameter C on the same plot. \n",
    "# Comment on the bias and variance of the classifier at different values of C.\n",
    "# (It might help to plot C on a log axis.) Which value of C would you choose based on this plot\n",
    "\n",
    "def fuclinearSVC(K):\n",
    "    # train the SVC with the given c with the other default parameters\n",
    "    print(K)\n",
    "    stime = timeit.default_timer()\n",
    "    Lsvc = LinearSVC(C=K, dual=False) \n",
    "    Lsvc.fit(Trd, Trl)\n",
    "    Trtime = timeit.default_timer() - stime \n",
    "    \n",
    "        \n",
    "    # After the SVC is trained we use it to get the predictions for the test and training set \n",
    "    \n",
    "    predtx = Lsvc.predict(Txd) #test set  \n",
    "    predtr = Lsvc.predict(Trd) #traing set \n",
    "\n",
    "    # Calculating the training and testing Accuracy\n",
    "    TxAcc  =   100*metrics.accuracy_score(predtx,Txl) # accuracy for testing by comparing the pred with the labels\n",
    "    TrAcc  = 100*metrics.accuracy_score(predtr,Trl) # accuracy for training by comparing the pred with the labels\n",
    "    \n",
    "    # Returning the training acc and testing acc required in the question\n",
    "    return TrAcc,TxAcc,Trtime \n",
    "\n",
    "\n",
    "# Once the function is defined to caluclate diff values of c we define the diff values of c \n",
    "\n",
    "# THe diff values of C are assigned to an array \n",
    "Carr = np.array([0.001, 0.1, 1, 10, 100])\n",
    "# Taking log for the values of c\n",
    "Clogar = np.log10(Carr)\n",
    "\n",
    "# initailise the traing and tesing accuracy matrix \n",
    "\n",
    "MTrAcc=[]\n",
    "MTxAcc=[]\n",
    "MTrtime=[]\n",
    "for i in Carr :\n",
    "    Acctr, Acctx,ttime = fuclinearSVC(i)\n",
    "    MTxAcc.extend([Acctx])\n",
    "    MTrAcc.extend([Acctr])\n",
    "    MTrtime.extend([ttime])\n",
    "    print('Training Accuracy')\n",
    "    print(Acctr)\n",
    "    print('Testing Accuracy')\n",
    "    print(Acctx)\n",
    "    \n",
    "    \n",
    "plt.semilogx(Carr,MTxAcc,label=\"Testing accuracy\")\n",
    "plt.semilogx(Carr,MTrAcc,label=\"Training  accuracy\")\n",
    "plt.legend(bbox_to_anchor=(1.05, 1), loc=2)\n",
    "plt.xlabel('Clogar (log Axis)')\n",
    "plt.ylabel('Accuracy of SVC  (% correct)')\n",
    "plt.show()\n",
    "\n",
    "print(MTrtime)"
   ]
  },
  {
   "cell_type": "code",
   "execution_count": 9,
   "metadata": {},
   "outputs": [
    {
     "ename": "NameError",
     "evalue": "name 'Lsvc1' is not defined",
     "output_type": "error",
     "traceback": [
      "\u001b[0;31m---------------------------------------------------------------------------\u001b[0m",
      "\u001b[0;31mNameError\u001b[0m                                 Traceback (most recent call last)",
      "\u001b[0;32m<ipython-input-9-e8ab91507d9f>\u001b[0m in \u001b[0;36m<module>\u001b[0;34m()\u001b[0m\n\u001b[0;32m----> 1\u001b[0;31m \u001b[0mprint\u001b[0m\u001b[0;34m(\u001b[0m\u001b[0mLsvc1\u001b[0m\u001b[0;34m.\u001b[0m\u001b[0mcoef_\u001b[0m\u001b[0;34m)\u001b[0m\u001b[0;34m\u001b[0m\u001b[0m\n\u001b[0m",
      "\u001b[0;31mNameError\u001b[0m: name 'Lsvc1' is not defined"
     ]
    }
   ],
   "source": [
    "print(Lsvc1.coef_)"
   ]
  },
  {
   "cell_type": "code",
   "execution_count": 7,
   "metadata": {},
   "outputs": [
    {
     "data": {
      "image/png": "[encoded data removed]",
      "text/plain": [
       "<matplotlib.figure.Figure at 0x7f80331967b8>"
      ]
     },
     "metadata": {},
     "output_type": "display_data"
    }
   ],
   "source": [
    "plt.semilogx(Carr,MTxAcc,label=\"Testing accuracy\")\n",
    "plt.semilogx(Carr,MTrAcc,label=\"Training  accuracy\")\n",
    "plt.xlabel('Clogar (log Axis)')\n",
    "plt.legend(bbox_to_anchor=(1.05, 1), loc=2)\n",
    "plt.ylabel('Accuracy of SVC  (% correct)')\n",
    "plt.ylim((91,93))\n",
    "plt.show()"
   ]
  },
  {
   "cell_type": "code",
   "execution_count": 1,
   "metadata": {},
   "outputs": [
    {
     "ename": "NameError",
     "evalue": "name 'np' is not defined",
     "output_type": "error",
     "traceback": [
      "\u001b[1;31m---------------------------------------------------------------------------\u001b[0m",
      "\u001b[1;31mNameError\u001b[0m                                 Traceback (most recent call last)",
      "\u001b[1;32m<ipython-input-1-02291b8f4ff9>\u001b[0m in \u001b[0;36m<module>\u001b[1;34m()\u001b[0m\n\u001b[0;32m     25\u001b[0m \u001b[1;33m\u001b[0m\u001b[0m\n\u001b[0;32m     26\u001b[0m \u001b[1;33m\u001b[0m\u001b[0m\n\u001b[1;32m---> 27\u001b[1;33m \u001b[0mCarr\u001b[0m \u001b[1;33m=\u001b[0m \u001b[0mnp\u001b[0m\u001b[1;33m.\u001b[0m\u001b[0marray\u001b[0m\u001b[1;33m(\u001b[0m\u001b[1;33m[\u001b[0m\u001b[1;36m0.001\u001b[0m\u001b[1;33m,\u001b[0m \u001b[1;36m0.1\u001b[0m\u001b[1;33m,\u001b[0m \u001b[1;36m1\u001b[0m\u001b[1;33m,\u001b[0m \u001b[1;36m10\u001b[0m\u001b[1;33m,\u001b[0m \u001b[1;36m100\u001b[0m\u001b[1;33m]\u001b[0m\u001b[1;33m)\u001b[0m\u001b[1;33m\u001b[0m\u001b[0m\n\u001b[0m\u001b[0;32m     28\u001b[0m \u001b[1;31m# Taking log for the values of c\u001b[0m\u001b[1;33m\u001b[0m\u001b[1;33m\u001b[0m\u001b[0m\n\u001b[0;32m     29\u001b[0m \u001b[0mClogar\u001b[0m \u001b[1;33m=\u001b[0m \u001b[0mnp\u001b[0m\u001b[1;33m.\u001b[0m\u001b[0mlog10\u001b[0m\u001b[1;33m(\u001b[0m\u001b[0mCarr\u001b[0m\u001b[1;33m)\u001b[0m\u001b[1;33m\u001b[0m\u001b[0m\n",
      "\u001b[1;31mNameError\u001b[0m: name 'np' is not defined"
     ]
    }
   ],
   "source": [
    "# iii) (15) Change the penalty parameter to 'l1' and repeat the experiments you did in i) and ii).\n",
    "# Comment on the results.\n",
    "\n",
    "def fuclinearSVCl1(K):\n",
    "    # train the SVC with the given c with the other default parameters\n",
    "    stime = timeit.default_timer()\n",
    "    Lsvcl1 = LinearSVC(penalty='l1',C=K, dual=False) \n",
    "    \n",
    "    Lsvcl1.fit(Trd, Trl)\n",
    "        \n",
    "    Trtime = timeit.default_timer() - stime \n",
    "    \n",
    "        \n",
    "    # After the SVC is trained we use it to get the predictions for the test and training set \n",
    "    \n",
    "    predtx = Lsvcl1.predict(Txd) #test set  \n",
    "    predtr = Lsvcl1.predict(Trd) #traing set \n",
    "\n",
    "    # Calculating the training and testing Accuracy\n",
    "    TxAcc  =   100*metrics.accuracy_score(predtx,Txl) # accuracy for testing by comparing the pred with the labels\n",
    "    TrAcc  = 100*metrics.accuracy_score(predtr,Trl) # accuracy for training by comparing the pred with the labels\n",
    "    \n",
    "    # Returning the training acc and testing acc required in the question\n",
    "    return TrAcc,TxAcc,Trtime \n",
    "\n",
    "\n",
    "Carr = np.array([0.001, 0.1, 1, 10, 100])\n",
    "# Taking log for the values of c\n",
    "Clogar = np.log10(Carr)\n",
    "\n",
    "MTrAccl1=[]\n",
    "MTxAccl1=[]\n",
    "MTrtimel1=[]\n",
    "for i in Carr :\n",
    "    Acctr, Acctx,ttime = fuclinearSVCl1(i)\n",
    "    MTxAccl1.extend([Acctx])\n",
    "    MTrAccl1.extend([Acctr])\n",
    "    MTrtimel1.extend([ttime])\n",
    "    print('Training Accuracy')\n",
    "    print(Acctr)\n",
    "    print('Testing Accuracy')\n",
    "    print(Acctx)\n",
    "    \n",
    "    \n",
    "plt.semilogx(Carr,MTxAccl1,label=\"Testing accuracy\")\n",
    "plt.semilogx(Carr,MTrAccl1,label=\"Training  accuracy\")\n",
    "plt.legend(bbox_to_anchor=(1.05, 1), loc=2)\n",
    "plt.xlabel('Clogar (log Axis)')\n",
    "plt.ylabel('Accuracy of SVC for penalty =l1  (% correct)')\n",
    "plt.show()\n",
    "\n",
    "print(MTrtimel1)\n",
    "\n"
   ]
  },
  {
   "cell_type": "code",
   "execution_count": null,
   "metadata": {
    "collapsed": true
   },
   "outputs": [],
   "source": []
  },
  {
   "cell_type": "code",
   "execution_count": null,
   "metadata": {
    "collapsed": true
   },
   "outputs": [],
   "source": []
  }
 ],
 "metadata": {
  "anaconda-cloud": {},
  "kernelspec": {
   "display_name": "Python 3",
   "language": "python",
   "name": "python3"
  },
  "language_info": {
   "codemirror_mode": {
    "name": "ipython",
    "version": 3
   },
   "file_extension": ".py",
   "mimetype": "text/x-python",
   "name": "python",
   "nbconvert_exporter": "python",
   "pygments_lexer": "ipython3",
   "version": "3.6.1"
  }
 },
 "nbformat": 4,
 "nbformat_minor": 1
}
