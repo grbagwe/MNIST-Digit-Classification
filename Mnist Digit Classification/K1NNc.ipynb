{
 "cells": [
  {
   "cell_type": "code",
   "execution_count": 2,
   "metadata": {},
   "outputs": [
    {
     "name": "stdout",
     "output_type": "stream",
     "text": [
      "Size of the training set:-\n",
      "(60000, 785)\n",
      "Size of the Testing set:-\n",
      "(10000, 785)\n",
      "Size of the Testing Labes:-\n"
     ]
    }
   ],
   "source": [
    "# Question 1 \n",
    "import csv\n",
    "import numpy as np\n",
    "from scipy import stats\n",
    "import math\n",
    "from numpy.linalg import inv, norm, pinv\n",
    "import random\n",
    "# I found it difficult ot de compress it in jupyter so I used Linux convert them into csv files\n",
    "Tr = np.loadtxt(open(\"C:\\\\Users\\\\grbag\\\\Desktop\\\\Fall17\\\\my machine learning\\\\KNN\\\\data\\\\mnist_train.csv\", \"rb\"), delimiter=\",\")\n",
    "Tx = np.loadtxt(open(\"C:\\\\Users\\\\grbag\\\\Desktop\\\\Fall17\\\\my machine learning\\\\KNN\\\\data\\\\mnist_test.csv\", \"rb\"), delimiter=\",\")\n",
    "print(\"Size of the training set:-\")\n",
    "print(Tr.shape)\n",
    "print(\"Size of the Testing set:-\")\n",
    "print(Tx.shape)\n",
    "print(\"Size of the Testing Labes:-\")\n",
    "\n"
   ]
  },
  {
   "cell_type": "code",
   "execution_count": 20,
   "metadata": {},
   "outputs": [
    {
     "name": "stdout",
     "output_type": "stream",
     "text": [
      "Size of the training set:-\n",
      "(60000, 784)\n",
      "Size of the training Labels:-\n",
      "(60000,)\n",
      "Size of the Testing set:-\n",
      "(10000, 784)\n",
      "Size of the Testing Labes:-\n",
      "(10000,)\n"
     ]
    }
   ],
   "source": [
    "# the first columns are the labels and rest are pixels for the \n",
    "TrD = Tr[:,1:]              # Training data\n",
    "TrL = Tr[:,0]               # Training Labels\n",
    "TxD = Tx[:,1:]              # Testing data\n",
    "TxL = Tx[:,0]               # Testing Labels\n",
    "\n",
    "print(\"Size of the training set:-\")\n",
    "print(TrD.shape)    \n",
    "print(\"Size of the training Labels:-\")\n",
    "print(TrL.shape)\n",
    "print(\"Size of the Testing set:-\")\n",
    "print(TxD.shape)\n",
    "print(\"Size of the Testing Labes:-\")\n",
    "print(TxL.shape)\n"
   ]
  },
  {
   "cell_type": "code",
   "execution_count": 25,
   "metadata": {},
   "outputs": [
    {
     "name": "stdout",
     "output_type": "stream",
     "text": [
      "7.0\n"
     ]
    },
    {
     "data": {
      "image/png": "[encoded data removed]",
      "text/plain": [
       "<matplotlib.figure.Figure at 0x2590bd319e8>"
      ]
     },
     "metadata": {},
     "output_type": "display_data"
    }
   ],
   "source": [
    "import matplotlib.pyplot as plt\n",
    "%matplotlib inline\n",
    "d=np.array(TxD[0])\n",
    "d.shape=(28,28)\n",
    "plt.imshow(d,cmap='gray')\n",
    "print(TxL[0])"
   ]
  },
  {
   "cell_type": "code",
   "execution_count": 60,
   "metadata": {
    "scrolled": true
   },
   "outputs": [
    {
     "name": "stdout",
     "output_type": "stream",
     "text": [
      "Predections of the classifier\n",
      "[[ 7.]\n",
      " [ 2.]\n",
      " [ 1.]\n",
      " ..., \n",
      " [ 4.]\n",
      " [ 5.]\n",
      " [ 6.]]\n",
      "Test Labels\n",
      "[ 7.  2.  1. ...,  4.  5.  6.]\n",
      "Accuracy using K=1 Nearest Neighbor \n",
      "96.9\n",
      "error using K-1 NN\n",
      "3.1\n"
     ]
    }
   ],
   "source": [
    "imax = TxD.shape[0]                 # max number of rows in the test image that we want to test\n",
    "pred= np.zeros((imax, 1))           # intialize an array to store the predictions\n",
    "for jj in range(0,imax):            \n",
    "    tstimage=TxD[jj,:]   # temp image  \n",
    "    Distance_matrix = np.einsum('ij, ij->i', (TrD-tstimage), (TrD-tstimage))  #distance calculater\n",
    "    Sorted_array = np.argsort(Distance_matrix, axis = None)         #sorting to find the minimum distance\n",
    "    pred[jj]=TrL[Sorted_array[0]]                                   #least distance\n",
    "print(\"Predections of the classifier\")\n",
    "print(pred)                                   \n",
    "print(\"Test Labels\")\n",
    "print(TxL)\n",
    "crtpred= np.zeros((imax, 1))  # intialize correct predictions array  \n",
    "for cnter in range(1,imax): \n",
    "    crtpred[cnter]=pred[cnter]==TxL[cnter]     # if prediction was correct crtprd= 1\n",
    "cpsum = np.sum(crtpred) #correct predection sum \n",
    "p = cpsum*100/imax      # Accuracy    \n",
    "error1nn= 100-p\n",
    "\n",
    "print(\"Accuracy using K=1 Nearest Neighbor \")\n",
    "print(p)\n",
    "print(\"error using K-1 NN\")\n",
    "print(error1nn)"
   ]
  },
  {
   "cell_type": "code",
   "execution_count": 65,
   "metadata": {},
   "outputs": [
    {
     "name": "stdout",
     "output_type": "stream",
     "text": [
      "The confusion matrix for 1NN classifier is:\n",
      "[[ 973    1    1    0    0    1    3    1    0    0]\n",
      " [   0 1129    3    0    1    1    1    0    0    0]\n",
      " [   7    6  992    5    1    0    2   16    3    0]\n",
      " [   0    1    2  970    1   19    0    7    7    3]\n",
      " [   0    7    0    0  944    0    3    5    1   22]\n",
      " [   1    1    0   12    2  860    5    1    6    4]\n",
      " [   4    2    0    0    3    5  944    0    0    0]\n",
      " [   0   14    6    2    4    0    0  992    0   10]\n",
      " [   6    1    3   14    5   13    3    4  920    5]\n",
      " [   2    5    1    6   10    5    1   11    1  967]]\n"
     ]
    }
   ],
   "source": [
    "from sklearn.metrics import confusion_matrix\n",
    "cmat=confusion_matrix(TxL,pred)\n",
    "print('The confusion matrix for 1NN classifier is:')\n",
    "print(cmat)\n",
    "# the condusion matrix shows the Label and predicted output, meaning if 0 was the label and zero was predicted; 0 was\n",
    "# the label and 1 was predicted etc."
   ]
  },
  {
   "cell_type": "code",
   "execution_count": 68,
   "metadata": {},
   "outputs": [
    {
     "name": "stdout",
     "output_type": "stream",
     "text": [
      "(28, 28)\n",
      "[[   0.    0.    0.    0.    0.    0.    0.    0.    0.    0.    0.    0.\n",
      "     0.    0.    0.    0.    0.    0.    0.    0.    0.    0.    0.    0.\n",
      "     0.    0.    0.    0.]\n",
      " [   0.    0.    0.    0.    0.    0.    0.    0.    0.    0.    0.    0.\n",
      "     0.    0.    0.    0.    0.    0.    0.    0.    0.    0.    0.    0.\n",
      "     0.    0.    0.    0.]\n",
      " [   0.    0.    0.    0.    0.    0.    0.    0.    0.    0.    0.    0.\n",
      "     0.    0.    0.    0.    0.    0.    0.    0.    0.    0.    0.    0.\n",
      "     0.    0.    0.    0.]\n",
      " [   0.    0.    0.    0.    0.    0.    0.    0.    0.    0.    0.    0.\n",
      "     0.    0.    0.    0.    0.    0.    0.    0.    0.    0.    0.    0.\n",
      "     0.    0.    0.    0.]\n",
      " [   0.    0.    0.    0.    0.    0.    0.    0.    0.    0.    0.    0.\n",
      "     0.    0.    0.    0.    0.    0.    0.    0.    0.    0.    0.    0.\n",
      "     0.    0.    0.    0.]\n",
      " [   0.    0.    0.    0.    0.    0.    0.    0.    0.    0.    0.    0.\n",
      "     0.    0.    0.    0.    0.    0.    0.    0.    0.    0.    0.    0.\n",
      "     0.    0.    0.    0.]\n",
      " [   0.    0.    0.    0.    0.    0.    0.    0.    0.    0.    0.    0.\n",
      "     0.    0.    0.    0.    0.    0.    0.    0.    0.    0.    0.    0.\n",
      "     0.    0.    0.    0.]\n",
      " [   0.    0.    0.    0.    0.    0.   84.  185.  159.  151.   60.   36.\n",
      "     0.    0.    0.    0.    0.    0.    0.    0.    0.    0.    0.    0.\n",
      "     0.    0.    0.    0.]\n",
      " [   0.    0.    0.    0.    0.    0.  222.  254.  254.  254.  254.  241.\n",
      "   198.  198.  198.  198.  198.  198.  198.  198.  170.   52.    0.    0.\n",
      "     0.    0.    0.    0.]\n",
      " [   0.    0.    0.    0.    0.    0.   67.  114.   72.  114.  163.  227.\n",
      "   254.  225.  254.  254.  254.  250.  229.  254.  254.  140.    0.    0.\n",
      "     0.    0.    0.    0.]\n",
      " [   0.    0.    0.    0.    0.    0.    0.    0.    0.    0.    0.   17.\n",
      "    66.   14.   67.   67.   67.   59.   21.  236.  254.  106.    0.    0.\n",
      "     0.    0.    0.    0.]\n",
      " [   0.    0.    0.    0.    0.    0.    0.    0.    0.    0.    0.    0.\n",
      "     0.    0.    0.    0.    0.    0.   83.  253.  209.   18.    0.    0.\n",
      "     0.    0.    0.    0.]\n",
      " [   0.    0.    0.    0.    0.    0.    0.    0.    0.    0.    0.    0.\n",
      "     0.    0.    0.    0.    0.   22.  233.  255.   83.    0.    0.    0.\n",
      "     0.    0.    0.    0.]\n",
      " [   0.    0.    0.    0.    0.    0.    0.    0.    0.    0.    0.    0.\n",
      "     0.    0.    0.    0.    0.  129.  254.  238.   44.    0.    0.    0.\n",
      "     0.    0.    0.    0.]\n",
      " [   0.    0.    0.    0.    0.    0.    0.    0.    0.    0.    0.    0.\n",
      "     0.    0.    0.    0.   59.  249.  254.   62.    0.    0.    0.    0.\n",
      "     0.    0.    0.    0.]\n",
      " [   0.    0.    0.    0.    0.    0.    0.    0.    0.    0.    0.    0.\n",
      "     0.    0.    0.    0.  133.  254.  187.    5.    0.    0.    0.    0.\n",
      "     0.    0.    0.    0.]\n",
      " [   0.    0.    0.    0.    0.    0.    0.    0.    0.    0.    0.    0.\n",
      "     0.    0.    0.    9.  205.  248.   58.    0.    0.    0.    0.    0.\n",
      "     0.    0.    0.    0.]\n",
      " [   0.    0.    0.    0.    0.    0.    0.    0.    0.    0.    0.    0.\n",
      "     0.    0.    0.  126.  254.  182.    0.    0.    0.    0.    0.    0.\n",
      "     0.    0.    0.    0.]\n",
      " [   0.    0.    0.    0.    0.    0.    0.    0.    0.    0.    0.    0.\n",
      "     0.    0.   75.  251.  240.   57.    0.    0.    0.    0.    0.    0.\n",
      "     0.    0.    0.    0.]\n",
      " [   0.    0.    0.    0.    0.    0.    0.    0.    0.    0.    0.    0.\n",
      "     0.   19.  221.  254.  166.    0.    0.    0.    0.    0.    0.    0.\n",
      "     0.    0.    0.    0.]\n",
      " [   0.    0.    0.    0.    0.    0.    0.    0.    0.    0.    0.    0.\n",
      "     3.  203.  254.  219.   35.    0.    0.    0.    0.    0.    0.    0.\n",
      "     0.    0.    0.    0.]\n",
      " [   0.    0.    0.    0.    0.    0.    0.    0.    0.    0.    0.    0.\n",
      "    38.  254.  254.   77.    0.    0.    0.    0.    0.    0.    0.    0.\n",
      "     0.    0.    0.    0.]\n",
      " [   0.    0.    0.    0.    0.    0.    0.    0.    0.    0.    0.   31.\n",
      "   224.  254.  115.    1.    0.    0.    0.    0.    0.    0.    0.    0.\n",
      "     0.    0.    0.    0.]\n",
      " [   0.    0.    0.    0.    0.    0.    0.    0.    0.    0.    0.  133.\n",
      "   254.  254.   52.    0.    0.    0.    0.    0.    0.    0.    0.    0.\n",
      "     0.    0.    0.    0.]\n",
      " [   0.    0.    0.    0.    0.    0.    0.    0.    0.    0.   61.  242.\n",
      "   254.  254.   52.    0.    0.    0.    0.    0.    0.    0.    0.    0.\n",
      "     0.    0.    0.    0.]\n",
      " [   0.    0.    0.    0.    0.    0.    0.    0.    0.    0.  121.  254.\n",
      "   254.  219.   40.    0.    0.    0.    0.    0.    0.    0.    0.    0.\n",
      "     0.    0.    0.    0.]\n",
      " [   0.    0.    0.    0.    0.    0.    0.    0.    0.    0.  121.  254.\n",
      "   207.   18.    0.    0.    0.    0.    0.    0.    0.    0.    0.    0.\n",
      "     0.    0.    0.    0.]\n",
      " [   0.    0.    0.    0.    0.    0.    0.    0.    0.    0.    0.    0.\n",
      "     0.    0.    0.    0.    0.    0.    0.    0.    0.    0.    0.    0.\n",
      "     0.    0.    0.    0.]]\n"
     ]
    }
   ],
   "source": [
    "print(d.shape)\n",
    "print(d)"
   ]
  },
  {
   "cell_type": "code",
   "execution_count": 69,
   "metadata": {},
   "outputs": [
    {
     "ename": "NameError",
     "evalue": "name 'A' is not defined",
     "output_type": "error",
     "traceback": [
      "\u001b[1;31m---------------------------------------------------------------------------\u001b[0m",
      "\u001b[1;31mNameError\u001b[0m                                 Traceback (most recent call last)",
      "\u001b[1;32m<ipython-input-69-42285fd261f3>\u001b[0m in \u001b[0;36m<module>\u001b[1;34m()\u001b[0m\n\u001b[1;32m----> 1\u001b[1;33m \u001b[0mA\u001b[0m\u001b[1;33m[\u001b[0m\u001b[1;36m54\u001b[0m\u001b[1;33m,\u001b[0m\u001b[1;36m54\u001b[0m\u001b[1;33m]\u001b[0m\u001b[1;33m\u001b[0m\u001b[0m\n\u001b[0m",
      "\u001b[1;31mNameError\u001b[0m: name 'A' is not defined"
     ]
    }
   ],
   "source": [
    "A[54,54]"
   ]
  },
  {
   "cell_type": "code",
   "execution_count": 72,
   "metadata": {},
   "outputs": [
    {
     "ename": "IndexError",
     "evalue": "index 54 is out of bounds for axis 0 with size 28",
     "output_type": "error",
     "traceback": [
      "\u001b[1;31m---------------------------------------------------------------------------\u001b[0m",
      "\u001b[1;31mIndexError\u001b[0m                                Traceback (most recent call last)",
      "\u001b[1;32m<ipython-input-72-b963b429882d>\u001b[0m in \u001b[0;36m<module>\u001b[1;34m()\u001b[0m\n\u001b[1;32m----> 1\u001b[1;33m \u001b[0md\u001b[0m\u001b[1;33m[\u001b[0m\u001b[1;36m54\u001b[0m\u001b[1;33m,\u001b[0m\u001b[1;36m54\u001b[0m\u001b[1;33m]\u001b[0m\u001b[1;33m\u001b[0m\u001b[0m\n\u001b[0m",
      "\u001b[1;31mIndexError\u001b[0m: index 54 is out of bounds for axis 0 with size 28"
     ]
    }
   ],
   "source": [
    "d[54,54]"
   ]
  },
  {
   "cell_type": "code",
   "execution_count": 144,
   "metadata": {},
   "outputs": [
    {
     "name": "stdout",
     "output_type": "stream",
     "text": [
      "(1, 196)\n",
      "[[   0.    0.    0.    0.    0.    0.    0.    0.    0.    0.    0.    0.\n",
      "     0.    0.    0.    0.    0.    0.    0.    0.    0.    0.    0.    0.\n",
      "     0.    0.    0.    0.    0.    0.    0.    0.    0.    0.    0.    0.\n",
      "     0.    0.    0.    0.    0.    0.    0.    0.    0.  269.  310.   96.\n",
      "     0.    0.    0.    0.    0.    0.    0.    0.    0.    0.    0.  657.\n",
      "   694.  885.  875.  904.  900.  879.  616.    0.    0.    0.    0.    0.\n",
      "     0.    0.    0.   17.   80.  134.  126.  593.  587.    0.    0.    0.\n",
      "     0.    0.    0.    0.    0.    0.    0.    0.  151.  980.  127.    0.\n",
      "     0.    0.    0.    0.    0.    0.    0.    0.    0.    0.  695.  508.\n",
      "     0.    0.    0.    0.    0.    0.    0.    0.    0.    0.    0.  135.\n",
      "   889.   58.    0.    0.    0.    0.    0.    0.    0.    0.    0.    0.\n",
      "    19.  801.  463.    0.    0.    0.    0.    0.    0.    0.    0.    0.\n",
      "     0.    0.  498.  804.   35.    0.    0.    0.    0.    0.    0.    0.\n",
      "     0.    0.    0.  164.  986.  168.    0.    0.    0.    0.    0.    0.\n",
      "     0.    0.    0.    0.    0.  678.  981.   92.    0.    0.    0.    0.\n",
      "     0.    0.    0.    0.    0.    0.    0.  375.  225.    0.    0.    0.\n",
      "     0.    0.    0.    0.]\n",
      " [   0.    0.    0.    0.    0.    0.    0.    0.    0.    0.    0.    0.\n",
      "     0.    0.    0.    0.    0.    0.    0.    0.    0.    0.    0.    0.\n",
      "     0.    0.    0.    0.    0.    0.    0.    0.    0.    0.    0.    0.\n",
      "     0.    0.  299.   39.    0.    0.    0.    0.  432.    0.    0.    0.\n",
      "     0.    0.    0.    2.  663.   79.    0.    0.    0.    0.  768.    0.\n",
      "     0.    0.    0.    0.    0.  210.  795.    0.    0.    0.    0.  166.\n",
      "   825.    0.    0.    0.    0.    0.    0.  452.  593.    0.    0.    0.\n",
      "     0.  318.  695.    0.    0.    0.    0.   14.  264.  919.  323.    0.\n",
      "     0.    0.    0.  309.  829.  414.  507.  669.  732.  718.  446.  976.\n",
      "    40.    0.    0.    0.    0.    0.  296.  354.  354.  154.    0.    0.\n",
      "   271.  865.    0.    0.    0.    0.    0.    0.    0.    0.    0.    0.\n",
      "     0.    0.  338.  622.    0.    0.    0.    0.    0.    0.    0.    0.\n",
      "     0.    0.    0.    0.  338.  699.    0.    0.    0.    0.    0.    0.\n",
      "     0.    0.    0.    0.    0.    0.  338.  815.    0.    0.    0.    0.\n",
      "     0.    0.    0.    0.    0.    0.    0.    0.   96.  407.    0.    0.\n",
      "     0.    0.    0.    0.    0.    0.    0.    0.    0.    0.    0.    0.\n",
      "     0.    0.    0.    0.]\n",
      " [   0.    0.    0.    0.    0.    0.    0.    0.    0.    0.    0.    0.\n",
      "     0.    0.    0.    0.    0.    0.    0.    0.    0.    0.    0.    0.\n",
      "     0.    0.    0.    0.    0.    0.    0.    0.    0.    0.    0.    0.\n",
      "     0.    0.  299.   39.    0.    0.    0.    0.  432.    0.    0.    0.\n",
      "     0.    0.    0.    2.  663.   79.    0.    0.    0.    0.  768.    0.\n",
      "     0.    0.    0.    0.    0.  210.  795.    0.    0.    0.    0.  166.\n",
      "   825.    0.    0.    0.    0.    0.    0.  452.  593.    0.    0.    0.\n",
      "     0.  318.  695.    0.    0.    0.    0.   14.  264.  919.  323.    0.\n",
      "     0.    0.    0.  309.  829.  414.  507.  669.  732.  718.  446.  976.\n",
      "    40.    0.    0.    0.    0.    0.  296.  354.  354.  154.    0.    0.\n",
      "   271.  865.    0.    0.    0.    0.    0.    0.    0.    0.    0.    0.\n",
      "     0.    0.  338.  622.    0.    0.    0.    0.    0.    0.    0.    0.\n",
      "     0.    0.    0.    0.  338.  699.    0.    0.    0.    0.    0.    0.\n",
      "     0.    0.    0.    0.    0.    0.  338.  815.    0.    0.    0.    0.\n",
      "     0.    0.    0.    0.    0.    0.    0.    0.   96.  407.    0.    0.\n",
      "     0.    0.    0.    0.    0.    0.    0.    0.    0.    0.    0.    0.\n",
      "     0.    0.    0.    0.]]\n"
     ]
    }
   ],
   "source": [
    "N=2\n",
    "nmax = int(28/N)\n",
    "a= np.zeros((nmax, nmax))\n",
    "for i in range(0,nmax):\n",
    "    for j in range(0,nmax):\n",
    "        ii=i*N\n",
    "        jj=j*N\n",
    "        a[i,j]= sum(sum(d[ii:(ii+N),jj:(jj+N)]))\n",
    "# plt.imshow(a,cmap='gray')\n",
    "# print(a.shape)\n",
    "b=a.flatten()\n",
    "N=2\n",
    "d1=np.array(TrD[2])\n",
    "d1.shape=(28,28)\n",
    "nmax = int(28/N)\n",
    "a= np.zeros((nmax, nmax))\n",
    "for i in range(0,nmax):\n",
    "    for j in range(0,nmax):\n",
    "        ii=i*N\n",
    "        jj=j*N\n",
    "        a[i,j]= sum(sum(d1[ii:(ii+N),jj:(jj+N)]))\n",
    "# plt.imshow(a,cmap='gray')\n",
    "# print(a.shape)\n",
    "b2=a.flatten()\n",
    "b.shape=(1,196)\n",
    "b2.shape=(1,196)\n",
    "\n",
    "# print(b)\n",
    "# print(b2)\n",
    "cc=np.vstack((b,b2))\n",
    "cc=np.vstack((cc,b2))\n",
    "print(b2.shape)\n",
    "print(cc)\n",
    "# c=np.array(b)\n",
    "# print(c.shape)\n",
    "# c.shape=(14,14)\n",
    "# print(c.shape)\n",
    "# plt.imshow(c,cmap='gray')\n",
    "# print(TxL[0])\n",
    "\n"
   ]
  },
  {
   "cell_type": "code",
   "execution_count": 130,
   "metadata": {},
   "outputs": [
    {
     "name": "stdout",
     "output_type": "stream",
     "text": [
      "(196,)\n"
     ]
    }
   ],
   "source": [
    "print(b.shape)"
   ]
  },
  {
   "cell_type": "code",
   "execution_count": null,
   "metadata": {
    "collapsed": true
   },
   "outputs": [],
   "source": []
  }
 ],
 "metadata": {
  "kernelspec": {
   "display_name": "Python 3",
   "language": "python",
   "name": "python3"
  },
  "language_info": {
   "codemirror_mode": {
    "name": "ipython",
    "version": 3
   },
   "file_extension": ".py",
   "mimetype": "text/x-python",
   "name": "python",
   "nbconvert_exporter": "python",
   "pygments_lexer": "ipython3",
   "version": "3.6.1"
  }
 },
 "nbformat": 4,
 "nbformat_minor": 2
}
