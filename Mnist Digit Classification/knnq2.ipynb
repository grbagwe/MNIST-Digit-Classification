{
 "cells": [
  {
   "cell_type": "code",
   "execution_count": 1,
   "metadata": {},
   "outputs": [
    {
     "name": "stdout",
     "output_type": "stream",
     "text": [
      "Size of the training set:-\n",
      "(60000, 785)\n",
      "Size of the Testing set:-\n",
      "(10000, 785)\n",
      "Size of the Testing Labes:-\n"
     ]
    }
   ],
   "source": [
    "import csv\n",
    "import numpy as np\n",
    "from scipy import stats\n",
    "from scipy.stats import mode\n",
    "import math\n",
    "from numpy.linalg import inv, norm, pinv\n",
    "import random\n",
    "# I found it difficult ot de compress it in jupyter so I used Linux convert them into csv files\n",
    "Tr = np.loadtxt(open(\"C:\\\\Users\\\\grbag\\\\Desktop\\\\Fall17\\\\my machine learning\\\\KNN\\\\data\\\\mnist_train.csv\", \"rb\"), delimiter=\",\")\n",
    "Tx = np.loadtxt(open(\"C:\\\\Users\\\\grbag\\\\Desktop\\\\Fall17\\\\my machine learning\\\\KNN\\\\data\\\\mnist_test.csv\", \"rb\"), delimiter=\",\")\n",
    "print(\"Size of the training set:-\")\n",
    "print(Tr.shape)\n",
    "print(\"Size of the Testing set:-\")\n",
    "print(Tx.shape)\n",
    "print(\"Size of the Testing Labes:-\")\n"
   ]
  },
  {
   "cell_type": "code",
   "execution_count": 127,
   "metadata": {},
   "outputs": [
    {
     "data": {
      "image/png": "[encoded data removed]",
      "text/plain": [
       "<matplotlib.figure.Figure at 0x1081320db00>"
      ]
     },
     "metadata": {},
     "output_type": "display_data"
    }
   ],
   "source": [
    "# the first columns are the labels and rest are pixels for the \n",
    "from scipy.stats import mode\n",
    "TrD = Tr[:,1:]              # Training data\n",
    "TrL = Tr[:,0]               # Training Labels\n",
    "TxD = Tx[:,1:]              # Testing data\n",
    "TxL = Tx[:,0] \n",
    "TrD=TrD[:10000,:]          # using smaller set due to computation time \n",
    "TrL=TrL[:10000]\n",
    " \n",
    "k = []\n",
    "calc = 1\n",
    "while int(calc) < 21:\n",
    "    k.append(calc)\n",
    "    calc = int(calc) + 1     # k from 1 to 20\n",
    "errork = np.zeros((20, 1))\n",
    "imax = TrD.shape[0]  \n",
    "for kk in k[:19]:\n",
    "    pred= np.zeros((TrD.shape[0], 1))\n",
    "    for i in range(0,TrD.shape[0]):\n",
    "        tstimage=TrD[i,:]   # temp image\n",
    "        Distance_matrix = np.einsum('ij, ij->i', (TrD-tstimage), (TrD-tstimage))\n",
    "        nearestks = TrL[np.argsort(Distance_matrix)[1:(kk+1)]]  \n",
    "        pred[i] = mode(nearestks)[0][0]\n",
    "    crtpred= np.zeros((pred.shape[0], 1))  # intialize correct predictions array  \n",
    "    for cnter in range(0,pred.shape[0]): \n",
    "        crtpred[cnter]=pred[cnter]==TrL[cnter]     # if prediction was correct crtprd= 1\n",
    "        \n",
    "    cpsum = np.sum(crtpred) #correct predection sum\n",
    "    p = cpsum*100/imax      # Accuracy    \n",
    "    errork[kk]=100-p\n",
    "    del pred\n",
    "# print(\"Error using Nearest Neighbor \")\n",
    "# print(errork)\n",
    "\n",
    "import matplotlib.pyplot as plt\n",
    "%matplotlib inline\n",
    "fig=plt.figure(1)\n",
    "eee=errork/100\n",
    "plt.plot(k,eee, 'ro',figure=fig)\n",
    "fig.suptitle(\"Nearest Neighbor Classifier errors\")\n",
    "fig.axes[0].set_xlabel(\"k (# of neighbors considered)\")\n",
    "fig.axes[0].set_ylabel(\"error \");\n",
    "# fig.axes[0].axis([0, max(k) + 1, 0, 1]);"
   ]
  },
  {
   "cell_type": "code",
   "execution_count": null,
   "metadata": {
    "collapsed": true
   },
   "outputs": [],
   "source": []
  }
 ],
 "metadata": {
  "kernelspec": {
   "display_name": "Python 3",
   "language": "python",
   "name": "python3"
  },
  "language_info": {
   "codemirror_mode": {
    "name": "ipython",
    "version": 3
   },
   "file_extension": ".py",
   "mimetype": "text/x-python",
   "name": "python",
   "nbconvert_exporter": "python",
   "pygments_lexer": "ipython3",
   "version": "3.6.1"
  }
 },
 "nbformat": 4,
 "nbformat_minor": 2
}
