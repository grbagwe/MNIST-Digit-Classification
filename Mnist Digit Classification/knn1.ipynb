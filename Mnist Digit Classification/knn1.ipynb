{
 "cells": [
  {
   "cell_type": "code",
   "execution_count": 194,
   "metadata": {
    "scrolled": true
   },
   "outputs": [
    {
     "name": "stdout",
     "output_type": "stream",
     "text": [
      "Size of the training set:-\n",
      "(60000, 784)\n",
      "Size of the training Labels:-\n",
      "(60000,)\n",
      "Size of the Testing set:-\n",
      "(10000, 784)\n",
      "Size of the Testing Labes:-\n",
      "(10000,)\n"
     ]
    }
   ],
   "source": [
    "import csv\n",
    "import numpy as np\n",
    "from scipy import stats\n",
    "import math\n",
    "from numpy.linalg import inv, norm, pinv\n",
    "import random\n",
    "\n",
    "#Loading data into matrix\n",
    "Tr_img = np.loadtxt(open(\"Train_Images.csv\", \"rb\"), delimiter=\",\")\n",
    "Tr_lbl = np.loadtxt(open(\"Train_labels.csv\", \"rb\"), delimiter=\",\")\n",
    "Tst_img = np.loadtxt(open(\"Test_Images.csv\", \"rb\"), delimiter=\",\")\n",
    "Tst_lbl = np.loadtxt(open(\"Test_Labels.csv\", \"rb\"), delimiter=\",\")\n",
    "print(\"Size of the training set:-\")\n",
    "print(Tr_img.shape)\n",
    "print(\"Size of the training Labels:-\")\n",
    "print(Tr_lbl.shape)\n",
    "print(\"Size of the Testing set:-\")\n",
    "print(Tst_img.shape)\n",
    "print(\"Size of the Testing Labes:-\")\n",
    "print(Tst_lbl.shape)\n",
    "\n"
   ]
  },
  {
   "cell_type": "code",
   "execution_count": 195,
   "metadata": {
    "scrolled": true
   },
   "outputs": [
    {
     "name": "stdout",
     "output_type": "stream",
     "text": [
      "(60000,)\n",
      "49160\n",
      "2.0\n"
     ]
    }
   ],
   "source": [
    "# 1 NN \n",
    "Distance_matrix = numpy.einsum('ij, ij->i', (Tr_img-Tst_img[1,:]), (Tr_img-Tst_img[1,:]))\n",
    "print(Distance_matrix.shape)\n",
    "Sorted_array = numpy.argsort(Distance_matrix, axis = None)\n",
    "print(Sorted_array[1])\n",
    "print(Tr_lbl[Sorted_array[5]])"
   ]
  },
  {
   "cell_type": "code",
   "execution_count": 196,
   "metadata": {
    "scrolled": false
   },
   "outputs": [
    {
     "name": "stdout",
     "output_type": "stream",
     "text": [
      "1.0\n"
     ]
    },
    {
     "data": {
      "image/png": "[encoded data removed]",
      "text/plain": [
       "<matplotlib.figure.Figure at 0x1aa81106978>"
      ]
     },
     "metadata": {},
     "output_type": "display_data"
    }
   ],
   "source": [
    "import matplotlib.pyplot as plt\n",
    "%matplotlib inline\n",
    "d=np.array(Tst_img[2])\n",
    "d.shape=(28,28)\n",
    "t=np.transpose(d)\n",
    "plt.imshow(t*255,cmap='gray')\n",
    "print(Tst_lbl[2])"
   ]
  },
  {
   "cell_type": "code",
   "execution_count": 197,
   "metadata": {
    "collapsed": true
   },
   "outputs": [],
   "source": [
    "imax = Tst_img.shape[0]\n",
    "pred= np.zeros((imax, 1))\n",
    "for jj in range(0,imax):\n",
    "    tstimage=Tst_img[jj,:]   # temp image  \n",
    "    Distance_matrix = numpy.einsum('ij, ij->i', (Tr_img-tstimage), (Tr_img-tstimage))\n",
    "    Sorted_array = numpy.argsort(Distance_matrix, axis = None)\n",
    "    pred[jj]=Tr_lbl[Sorted_array[0]]"
   ]
  },
  {
   "cell_type": "code",
   "execution_count": 198,
   "metadata": {},
   "outputs": [
    {
     "name": "stdout",
     "output_type": "stream",
     "text": [
      "Predections of the classifier\n",
      "[[ 7.]\n",
      " [ 2.]\n",
      " [ 1.]\n",
      " ..., \n",
      " [ 4.]\n",
      " [ 5.]\n",
      " [ 6.]]\n",
      "Test Labels\n",
      "[ 7.  2.  1. ...,  4.  5.  6.]\n",
      "Accuracy using K=1 Nearest Neighbor \n",
      "96.9\n"
     ]
    }
   ],
   "source": [
    "print(\"Predections of the classifier\")\n",
    "print(pred)\n",
    "print(\"Test Labels\")\n",
    "print(Tst_lbl)\n",
    "crtpred= np.zeros((imax, 1))\n",
    "for cnter in range(1,imax):\n",
    "    crtprd=n1ary[cnter]==Tst_lbl[cnter]\n",
    "cpsum = np.sum(crtpred) #correct predection sum \n",
    "p = errsm*100/imax      # Accuracy    \n",
    "print(\"Accuracy using K=1 Nearest Neighbor \")\n",
    "print(p)\n",
    "    \n"
   ]
  },
  {
   "cell_type": "code",
   "execution_count": 1,
   "metadata": {},
   "outputs": [
    {
     "ename": "NameError",
     "evalue": "name 'Tst_img' is not defined",
     "output_type": "error",
     "traceback": [
      "\u001b[1;31m---------------------------------------------------------------------------\u001b[0m",
      "\u001b[1;31mNameError\u001b[0m                                 Traceback (most recent call last)",
      "\u001b[1;32m<ipython-input-1-c19233eeace2>\u001b[0m in \u001b[0;36m<module>\u001b[1;34m()\u001b[0m\n\u001b[1;32m----> 1\u001b[1;33m \u001b[0mprint\u001b[0m\u001b[1;33m(\u001b[0m\u001b[0mrange\u001b[0m\u001b[1;33m(\u001b[0m\u001b[0mTst_img\u001b[0m\u001b[1;33m)\u001b[0m\u001b[1;33m)\u001b[0m\u001b[1;33m\u001b[0m\u001b[0m\n\u001b[0m",
      "\u001b[1;31mNameError\u001b[0m: name 'Tst_img' is not defined"
     ]
    }
   ],
   "source": [
    "print(range(Tst_img))"
   ]
  },
  {
   "cell_type": "code",
   "execution_count": 2,
   "metadata": {},
   "outputs": [
    {
     "ename": "NameError",
     "evalue": "name 'Tr_img' is not defined",
     "output_type": "error",
     "traceback": [
      "\u001b[1;31m---------------------------------------------------------------------------\u001b[0m",
      "\u001b[1;31mNameError\u001b[0m                                 Traceback (most recent call last)",
      "\u001b[1;32m<ipython-input-2-d6a0abbfd8b3>\u001b[0m in \u001b[0;36m<module>\u001b[1;34m()\u001b[0m\n\u001b[1;32m----> 1\u001b[1;33m \u001b[0msum\u001b[0m\u001b[1;33m(\u001b[0m\u001b[1;33m(\u001b[0m\u001b[0mTr_img\u001b[0m\u001b[1;33m[\u001b[0m\u001b[1;36m1\u001b[0m\u001b[1;33m,\u001b[0m\u001b[1;33m:\u001b[0m\u001b[1;33m]\u001b[0m \u001b[1;33m-\u001b[0m\u001b[0mTst_img\u001b[0m\u001b[1;33m[\u001b[0m\u001b[1;36m1\u001b[0m\u001b[1;33m,\u001b[0m\u001b[1;33m:\u001b[0m\u001b[1;33m]\u001b[0m\u001b[1;33m)\u001b[0m \u001b[1;33m**\u001b[0m \u001b[1;36m2\u001b[0m\u001b[1;33m)\u001b[0m\u001b[1;33m\u001b[0m\u001b[0m\n\u001b[0m",
      "\u001b[1;31mNameError\u001b[0m: name 'Tr_img' is not defined"
     ]
    }
   ],
   "source": [
    "sum((Tr_img[1,:] -Tst_img[1,:]) ** 2)"
   ]
  },
  {
   "cell_type": "code",
   "execution_count": null,
   "metadata": {
    "collapsed": true
   },
   "outputs": [],
   "source": [
    "T"
   ]
  }
 ],
 "metadata": {
  "kernelspec": {
   "display_name": "Python 3",
   "language": "python",
   "name": "python3"
  },
  "language_info": {
   "codemirror_mode": {
    "name": "ipython",
    "version": 3
   },
   "file_extension": ".py",
   "mimetype": "text/x-python",
   "name": "python",
   "nbconvert_exporter": "python",
   "pygments_lexer": "ipython3",
   "version": "3.6.1"
  }
 },
 "nbformat": 4,
 "nbformat_minor": 2
}
