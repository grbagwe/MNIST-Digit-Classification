{
 "cells": [
  {
   "cell_type": "code",
   "execution_count": 17,
   "metadata": {
    "scrolled": false
   },
   "outputs": [],
   "source": [
    "import csv\n",
    "import numpy as np\n",
    "from scipy import stats\n",
    "import math\n",
    "from numpy.linalg import inv, norm, pinv\n",
    "import random\n",
    "import matplotlib.pyplot as plt\n",
    "%matplotlib inline\n",
    "# I found it difficult ot de compress it in jupyter so I used Linux convert them into csv files\n",
    "Tr = np.loadtxt(open(\"C:\\\\Users\\\\grbag\\\\Desktop\\\\Fall17\\\\my machine learning\\\\KNN\\\\data\\\\mnist_train.csv\", \"rb\"), delimiter=\",\")\n",
    "# Tx = np.loadtxt(open(\"C:\\\\Users\\\\grbag\\\\Desktop\\\\Fall17\\\\my machine learning\\\\KNN\\\\data\\\\mnist_test.csv\", \"rb\"), delimiter=\",\")\n",
    "\n",
    "TrD = Tr[:60000,1:]              # Training data\n",
    "TrL = Tr[:60000,0]               # Training Labels\n",
    "# TxD = Tx[:,1:]              # Testing data\n",
    "# TxL = Tx[:,0]    # Testing Labels\n"
   ]
  },
  {
   "cell_type": "code",
   "execution_count": null,
   "metadata": {},
   "outputs": [],
   "source": [
    "import matplotlib.pyplot as plt\n",
    "%matplotlib inline\n",
    "from scipy.stats import mode\n",
    "imax=TrD.shape[0]\n",
    "TrDs=np.zeros((imax,1))     \n",
    "for i in range(0,TrD.shape[0]):\n",
    "    TrDs[i]=sum(TrD[i,:])\n",
    "k=[]\n",
    "calc = 1\n",
    "while int(calc) < 21:\n",
    "    k.append(calc)\n",
    "    calc = int(calc) + 1     # k from 1 to 20\n",
    "errork = np.zeros((20, 1))\n",
    "for kk in k[:19]:\n",
    "    pred= np.zeros((TrD.shape[0], 1))\n",
    "    for i in range(0,TrD.shape[0]):\n",
    "        tstimage=TrDs[i,:]   # temp image\n",
    "        Distance_matrix = np.einsum('ij, ij->i', (TrDs-tstimage), (TrDs-tstimage))\n",
    "        nearestks = TrL[np.argsort(Distance_matrix)[1:(kk+1)]]  \n",
    "        pred[i] = mode(nearestks)[0][0]\n",
    "        crtpred= np.zeros((pred.shape[0], 1))  # intialize correct predictions array  \n",
    "        for cnter in range(0,pred.shape[0]): \n",
    "            crtpred[cnter]=pred[cnter]==TrL[cnter]     # if prediction was correct\n",
    "    cpsum = np.sum(crtpred) #correct predection sum\n",
    "    p = cpsum*100/imax      # Accuracy    \n",
    "    errork[kk]=100-p\n",
    "    del pred\n",
    "fig=plt.figure()\n",
    "eee=errork/100\n",
    "plt.plot(k,eee, 'ro',figure=fig)\n",
    "fig.suptitle(\"For downsampling\")\n",
    "fig.axes[0].set_xlabel(\"k (# of neighbors considered)\")\n",
    "fig.axes[0].set_ylabel(\"error \");\n",
    "    "
   ]
  },
  {
   "cell_type": "code",
   "execution_count": null,
   "metadata": {
    "collapsed": true
   },
   "outputs": [],
   "source": [
    "# the 28 downsampler downsamples the data, my mearging all the pixels to just one pixel. \n",
    "# THis is done by adding all the columns to make Nx1 matrix. \n",
    "#  THe error achieved here is very high as very few samples were taken  due to computer's hardware limitation\n"
   ]
  }
 ],
 "metadata": {
  "kernelspec": {
   "display_name": "Python 3",
   "language": "python",
   "name": "python3"
  },
  "language_info": {
   "codemirror_mode": {
    "name": "ipython",
    "version": 3
   },
   "file_extension": ".py",
   "mimetype": "text/x-python",
   "name": "python",
   "nbconvert_exporter": "python",
   "pygments_lexer": "ipython3",
   "version": "3.6.1"
  }
 },
 "nbformat": 4,
 "nbformat_minor": 2
}
