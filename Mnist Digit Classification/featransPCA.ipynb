{
 "cells": [
  {
   "cell_type": "code",
   "execution_count": 17,
   "metadata": {
    "collapsed": true
   },
   "outputs": [],
   "source": [
    "import csv\n",
    "import numpy as np\n",
    "from scipy import stats\n",
    "from scipy.stats import mode\n",
    "import math\n",
    "from numpy.linalg import inv, norm, pinv\n",
    "import random\n",
    "import time\n",
    "# I found it difficult ot de compress it in jupyter so I used Linux convert them into csv files\n",
    "Tr = np.loadtxt(open(\"C:\\\\Users\\\\grbag\\\\Desktop\\\\Fall17\\\\my machine learning\\\\KNN\\\\data\\\\mnist_train.csv\", \"rb\"), delimiter=\",\")\n",
    "Tx = np.loadtxt(open(\"C:\\\\Users\\\\grbag\\\\Desktop\\\\Fall17\\\\my machine learning\\\\KNN\\\\data\\\\mnist_test.csv\", \"rb\"), delimiter=\",\")\n",
    "# print(\"Size of the training set:-\")\n",
    "# print(Tr.shape)\n",
    "# print(\"Size of the Testing set:-\")\n",
    "# print(Tx.shape)\n",
    "# print(\"Size of the Testing Labes:-\")\n",
    "\n",
    "# the first columns are the labels and rest are pixels for the \n",
    "from scipy.stats import mode\n",
    "TrD = Tr[:5000,1:]              # Training data\n",
    "TrL = Tr[:5000,0] "
   ]
  },
  {
   "cell_type": "code",
   "execution_count": 18,
   "metadata": {},
   "outputs": [
    {
     "name": "stdout",
     "output_type": "stream",
     "text": [
      "The run time is 728.050078950839secs\n"
     ]
    },
    {
     "data": {
      "image/png": "[encoded data removed]",
      "text/plain": [
       "<matplotlib.figure.Figure at 0x20105bec828>"
      ]
     },
     "metadata": {},
     "output_type": "display_data"
    }
   ],
   "source": [
    "import time\n",
    "t1=time.clock() \n",
    "import matplotlib.pyplot as plt\n",
    "%matplotlib inline\n",
    "from scipy.stats import mode\n",
    "def svpca(intTr,N):\n",
    "    import numpy as np\n",
    "    intTr=intTr.astype(\"float64\")\n",
    "    r=intTr.shape[0]\n",
    "    intTr -= np.mean(intTr,axis=0)\n",
    "    out,S,V= np.linalg.svd(intTr,full_matrices=False)\n",
    "    return out[:,:N].dot(np.diag(S)[:N,:N]) \n",
    "    \n",
    "\n",
    "Trd4s =svpca(TrD,4)\n",
    "\n",
    "k=[]\n",
    "calc = 1\n",
    "while int(calc) < 21:\n",
    "    k.append(calc)\n",
    "    calc = int(calc) + 1     # k from 1 to 20\n",
    "    \n",
    "def prednn(Train,Test,k):\n",
    "    imax = Train.shape[0]\n",
    "    errork = np.zeros((20, 1))\n",
    "    for kk in k[:19]:\n",
    "        pred= np.zeros((TrD.shape[0], 1))\n",
    "        for i in range(0,Train.shape[0]):\n",
    "            tstimage=Train[i,:]   # temp image\n",
    "            Distance_matrix = np.einsum('ij, ij->i', (Train-tstimage), (Train-tstimage))\n",
    "            nearestks = Test[np.argsort(Distance_matrix)[1:(kk+1)]]  \n",
    "            pred[i] = mode(nearestks)[0][0]\n",
    "            crtpred= np.zeros((pred.shape[0], 1))  # intialize correct predictions array  \n",
    "            for cnter in range(0,pred.shape[0]): \n",
    "                crtpred[cnter]=pred[cnter]==Test[cnter]     # if prediction was correct\n",
    "        cpsum = np.sum(crtpred) #correct predection sum\n",
    "        p = cpsum*100/imax      # Accuracy    \n",
    "        errork[kk]=100-p;\n",
    "        del pred\n",
    "    return errork\n",
    "\n",
    "err4s=prednn(Trd4s,TrL,k)\n",
    "t2=time.clock()\n",
    "runtm =t2-t1\n",
    "print(\"The run time is \"+ str(runtm)+\"secs\")\n",
    "fig=plt.figure()\n",
    "plt.plot(k,err4s, 'ro',figure=fig)\n",
    "fig.suptitle(\"Feature Transformation using priciple component analysis(PCA):-4\")\n",
    "fig.axes[0].set_xlabel(\"k (# of neighbors considered)\")\n",
    "fig.axes[0].set_ylabel(\"error \");\n",
    "\n"
   ]
  },
  {
   "cell_type": "code",
   "execution_count": null,
   "metadata": {
    "collapsed": true
   },
   "outputs": [],
   "source": [
    "# If we reduce the number of pixels without affecting the \n",
    "# predections we can improve the speed to a high extend. \n",
    "# if we find a cluster and shift or transform the axis \n",
    "# according to the new features which have more information\n",
    "# this method of tranforming to new axis if called pricipal component\n",
    "# analysis.\n",
    "# We take float type data or typecast it using astype or float command\n",
    "# we normalize the data by subracting the mean from the data thus changing the axis \n",
    "# dot product between the data's single value deocompostion thus reducing the \n",
    "# dimensionality hence saving time \n",
    "\n"
   ]
  }
 ],
 "metadata": {
  "kernelspec": {
   "display_name": "Python 3",
   "language": "python",
   "name": "python3"
  },
  "language_info": {
   "codemirror_mode": {
    "name": "ipython",
    "version": 3
   },
   "file_extension": ".py",
   "mimetype": "text/x-python",
   "name": "python",
   "nbconvert_exporter": "python",
   "pygments_lexer": "ipython3",
   "version": "3.6.1"
  }
 },
 "nbformat": 4,
 "nbformat_minor": 2
}
